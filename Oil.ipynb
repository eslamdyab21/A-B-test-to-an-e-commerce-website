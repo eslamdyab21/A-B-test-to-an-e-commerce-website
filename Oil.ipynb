{
  "nbformat": 4,
  "nbformat_minor": 0,
  "metadata": {
    "colab": {
      "name": "Oil.ipynb",
      "provenance": [],
      "collapsed_sections": [],
      "authorship_tag": "ABX9TyPrhrEI0RUVvKflRild7OYh",
      "include_colab_link": true
    },
    "kernelspec": {
      "name": "python3",
      "display_name": "Python 3"
    },
    "language_info": {
      "name": "python"
    }
  },
  "cells": [
    {
      "cell_type": "markdown",
      "metadata": {
        "id": "view-in-github",
        "colab_type": "text"
      },
      "source": [
        "<a href=\"https://colab.research.google.com/github/eslamdyab21/A-B-test-to-an-e-commerce-website/blob/main/Oil.ipynb\" target=\"_parent\"><img src=\"https://colab.research.google.com/assets/colab-badge.svg\" alt=\"Open In Colab\"/></a>"
      ]
    },
    {
      "cell_type": "code",
      "metadata": {
        "id": "w4Mwq0PJFbRC"
      },
      "source": [
        "import pandas as pd\n",
        "df4 = pd.read_csv('https://factpages.npd.no/ReportServer_npdpublic?/FactPages/tableview/field_reserves&rs:Command=Render&rc:Toolbar=false&rc:Parameters=f&IpAddress=not_used&CultureCode=en&rs:Format=CSV&Top100=false')"
      ],
      "execution_count": 1,
      "outputs": []
    },
    {
      "cell_type": "code",
      "metadata": {
        "id": "YIwINN4PIaTU"
      },
      "source": [
        "df2 = pd.read_csv('https://factpages.npd.no/ReportServer_npdpublic?/FactPages/tableview/field_in_place_volumes&rs:Command=Render&rc:Toolbar=false&rc:Parameters=f&IpAddress=not_used&CultureCode=en&rs:Format=CSV&Top100=false')"
      ],
      "execution_count": 2,
      "outputs": []
    },
    {
      "cell_type": "code",
      "metadata": {
        "colab": {
          "base_uri": "https://localhost:8080/",
          "height": 226
        },
        "id": "DZTFM5QOFc7q",
        "outputId": "83d55b61-c7bb-45c4-f774-7c383d26567f"
      },
      "source": [
        "df4.head()"
      ],
      "execution_count": 3,
      "outputs": [
        {
          "output_type": "execute_result",
          "data": {
            "text/html": [
              "<div>\n",
              "<style scoped>\n",
              "    .dataframe tbody tr th:only-of-type {\n",
              "        vertical-align: middle;\n",
              "    }\n",
              "\n",
              "    .dataframe tbody tr th {\n",
              "        vertical-align: top;\n",
              "    }\n",
              "\n",
              "    .dataframe thead th {\n",
              "        text-align: right;\n",
              "    }\n",
              "</style>\n",
              "<table border=\"1\" class=\"dataframe\">\n",
              "  <thead>\n",
              "    <tr style=\"text-align: right;\">\n",
              "      <th></th>\n",
              "      <th>fldName</th>\n",
              "      <th>fldRecoverableOil</th>\n",
              "      <th>fldRecoverableGas</th>\n",
              "      <th>fldRecoverableNGL</th>\n",
              "      <th>fldRecoverableCondensate</th>\n",
              "      <th>fldRecoverableOE</th>\n",
              "      <th>fldRemainingOil</th>\n",
              "      <th>fldRemainingGas</th>\n",
              "      <th>fldRemainingNGL</th>\n",
              "      <th>fldRemainingCondensate</th>\n",
              "      <th>fldRemainingOE</th>\n",
              "      <th>fldDateOffResEstDisplay</th>\n",
              "      <th>fldNpdidField</th>\n",
              "      <th>DatesyncNPD</th>\n",
              "    </tr>\n",
              "  </thead>\n",
              "  <tbody>\n",
              "    <tr>\n",
              "      <th>0</th>\n",
              "      <td>ALBUSKJELL</td>\n",
              "      <td>7.35</td>\n",
              "      <td>15.53</td>\n",
              "      <td>0.99</td>\n",
              "      <td>0.0</td>\n",
              "      <td>24.76</td>\n",
              "      <td>0.00</td>\n",
              "      <td>0.00</td>\n",
              "      <td>0.0</td>\n",
              "      <td>0.0</td>\n",
              "      <td>0.00</td>\n",
              "      <td>31.12.2020</td>\n",
              "      <td>43437</td>\n",
              "      <td>12.07.2021</td>\n",
              "    </tr>\n",
              "    <tr>\n",
              "      <th>1</th>\n",
              "      <td>ALVE</td>\n",
              "      <td>2.46</td>\n",
              "      <td>9.69</td>\n",
              "      <td>1.49</td>\n",
              "      <td>0.0</td>\n",
              "      <td>14.98</td>\n",
              "      <td>0.33</td>\n",
              "      <td>2.25</td>\n",
              "      <td>0.3</td>\n",
              "      <td>0.0</td>\n",
              "      <td>3.15</td>\n",
              "      <td>31.12.2020</td>\n",
              "      <td>4444332</td>\n",
              "      <td>12.07.2021</td>\n",
              "    </tr>\n",
              "    <tr>\n",
              "      <th>2</th>\n",
              "      <td>ALVHEIM</td>\n",
              "      <td>53.70</td>\n",
              "      <td>10.50</td>\n",
              "      <td>0.00</td>\n",
              "      <td>0.0</td>\n",
              "      <td>64.20</td>\n",
              "      <td>8.74</td>\n",
              "      <td>3.99</td>\n",
              "      <td>0.0</td>\n",
              "      <td>0.0</td>\n",
              "      <td>12.73</td>\n",
              "      <td>31.12.2020</td>\n",
              "      <td>2845712</td>\n",
              "      <td>12.07.2021</td>\n",
              "    </tr>\n",
              "    <tr>\n",
              "      <th>3</th>\n",
              "      <td>ATLA</td>\n",
              "      <td>0.40</td>\n",
              "      <td>1.40</td>\n",
              "      <td>0.00</td>\n",
              "      <td>0.0</td>\n",
              "      <td>1.80</td>\n",
              "      <td>0.00</td>\n",
              "      <td>0.00</td>\n",
              "      <td>0.0</td>\n",
              "      <td>0.0</td>\n",
              "      <td>0.00</td>\n",
              "      <td>31.12.2020</td>\n",
              "      <td>21106284</td>\n",
              "      <td>12.07.2021</td>\n",
              "    </tr>\n",
              "    <tr>\n",
              "      <th>4</th>\n",
              "      <td>BALDER</td>\n",
              "      <td>106.59</td>\n",
              "      <td>3.08</td>\n",
              "      <td>0.00</td>\n",
              "      <td>0.0</td>\n",
              "      <td>109.67</td>\n",
              "      <td>34.99</td>\n",
              "      <td>1.12</td>\n",
              "      <td>0.0</td>\n",
              "      <td>0.0</td>\n",
              "      <td>36.11</td>\n",
              "      <td>31.12.2020</td>\n",
              "      <td>43562</td>\n",
              "      <td>12.07.2021</td>\n",
              "    </tr>\n",
              "  </tbody>\n",
              "</table>\n",
              "</div>"
            ],
            "text/plain": [
              "      fldName  fldRecoverableOil  ...  fldNpdidField  DatesyncNPD\n",
              "0  ALBUSKJELL               7.35  ...          43437   12.07.2021\n",
              "1        ALVE               2.46  ...        4444332   12.07.2021\n",
              "2     ALVHEIM              53.70  ...        2845712   12.07.2021\n",
              "3        ATLA               0.40  ...       21106284   12.07.2021\n",
              "4      BALDER             106.59  ...          43562   12.07.2021\n",
              "\n",
              "[5 rows x 14 columns]"
            ]
          },
          "metadata": {
            "tags": []
          },
          "execution_count": 3
        }
      ]
    },
    {
      "cell_type": "code",
      "metadata": {
        "colab": {
          "base_uri": "https://localhost:8080/"
        },
        "id": "AsGCihmwPtYn",
        "outputId": "b2131ebf-b0a7-4cb7-b035-d297de662304"
      },
      "source": [
        "df4.shape"
      ],
      "execution_count": 4,
      "outputs": [
        {
          "output_type": "execute_result",
          "data": {
            "text/plain": [
              "(123, 14)"
            ]
          },
          "metadata": {
            "tags": []
          },
          "execution_count": 4
        }
      ]
    },
    {
      "cell_type": "code",
      "metadata": {
        "colab": {
          "base_uri": "https://localhost:8080/",
          "height": 206
        },
        "id": "y8EtcRTNJLcN",
        "outputId": "da2b543a-0fe9-4c5a-9dde-372ac640674e"
      },
      "source": [
        "df2.head()"
      ],
      "execution_count": 5,
      "outputs": [
        {
          "output_type": "execute_result",
          "data": {
            "text/html": [
              "<div>\n",
              "<style scoped>\n",
              "    .dataframe tbody tr th:only-of-type {\n",
              "        vertical-align: middle;\n",
              "    }\n",
              "\n",
              "    .dataframe tbody tr th {\n",
              "        vertical-align: top;\n",
              "    }\n",
              "\n",
              "    .dataframe thead th {\n",
              "        text-align: right;\n",
              "    }\n",
              "</style>\n",
              "<table border=\"1\" class=\"dataframe\">\n",
              "  <thead>\n",
              "    <tr style=\"text-align: right;\">\n",
              "      <th></th>\n",
              "      <th>fldName</th>\n",
              "      <th>fldInplaceOil</th>\n",
              "      <th>fldInplaceAssLiquid</th>\n",
              "      <th>fldInplaceAssGas</th>\n",
              "      <th>fldInplaceFreeGas</th>\n",
              "      <th>fldDateOffResEstDisplay</th>\n",
              "      <th>fldNpdidField</th>\n",
              "      <th>DatesyncNPD</th>\n",
              "    </tr>\n",
              "  </thead>\n",
              "  <tbody>\n",
              "    <tr>\n",
              "      <th>0</th>\n",
              "      <td>ALBUSKJELL</td>\n",
              "      <td>56.00</td>\n",
              "      <td>0.0</td>\n",
              "      <td>64.00</td>\n",
              "      <td>0.00</td>\n",
              "      <td>31.12.2020</td>\n",
              "      <td>43437</td>\n",
              "      <td>12.07.2021</td>\n",
              "    </tr>\n",
              "    <tr>\n",
              "      <th>1</th>\n",
              "      <td>ALVE</td>\n",
              "      <td>3.00</td>\n",
              "      <td>2.5</td>\n",
              "      <td>1.10</td>\n",
              "      <td>13.50</td>\n",
              "      <td>31.12.2020</td>\n",
              "      <td>4444332</td>\n",
              "      <td>12.07.2021</td>\n",
              "    </tr>\n",
              "    <tr>\n",
              "      <th>2</th>\n",
              "      <td>ALVHEIM</td>\n",
              "      <td>110.67</td>\n",
              "      <td>0.0</td>\n",
              "      <td>10.57</td>\n",
              "      <td>11.69</td>\n",
              "      <td>31.12.2020</td>\n",
              "      <td>2845712</td>\n",
              "      <td>12.07.2021</td>\n",
              "    </tr>\n",
              "    <tr>\n",
              "      <th>3</th>\n",
              "      <td>ATLA</td>\n",
              "      <td>0.44</td>\n",
              "      <td>0.0</td>\n",
              "      <td>0.00</td>\n",
              "      <td>1.88</td>\n",
              "      <td>31.12.2020</td>\n",
              "      <td>21106284</td>\n",
              "      <td>12.07.2021</td>\n",
              "    </tr>\n",
              "    <tr>\n",
              "      <th>4</th>\n",
              "      <td>BALDER</td>\n",
              "      <td>263.20</td>\n",
              "      <td>0.0</td>\n",
              "      <td>14.33</td>\n",
              "      <td>0.00</td>\n",
              "      <td>31.12.2020</td>\n",
              "      <td>43562</td>\n",
              "      <td>12.07.2021</td>\n",
              "    </tr>\n",
              "  </tbody>\n",
              "</table>\n",
              "</div>"
            ],
            "text/plain": [
              "      fldName  fldInplaceOil  ...  fldNpdidField  DatesyncNPD\n",
              "0  ALBUSKJELL          56.00  ...          43437   12.07.2021\n",
              "1        ALVE           3.00  ...        4444332   12.07.2021\n",
              "2     ALVHEIM         110.67  ...        2845712   12.07.2021\n",
              "3        ATLA           0.44  ...       21106284   12.07.2021\n",
              "4      BALDER         263.20  ...          43562   12.07.2021\n",
              "\n",
              "[5 rows x 8 columns]"
            ]
          },
          "metadata": {
            "tags": []
          },
          "execution_count": 5
        }
      ]
    },
    {
      "cell_type": "code",
      "metadata": {
        "id": "boUZkfnQSGG1"
      },
      "source": [
        "df_fldInplaceOil = df4[['fldName','fldRecoverableOil']]"
      ],
      "execution_count": 6,
      "outputs": []
    },
    {
      "cell_type": "code",
      "metadata": {
        "colab": {
          "base_uri": "https://localhost:8080/",
          "height": 206
        },
        "id": "XbXvky7nSOwI",
        "outputId": "043771f9-350a-4f38-b256-39d6f71ad5ab"
      },
      "source": [
        "df_fldInplaceOil.head()"
      ],
      "execution_count": 7,
      "outputs": [
        {
          "output_type": "execute_result",
          "data": {
            "text/html": [
              "<div>\n",
              "<style scoped>\n",
              "    .dataframe tbody tr th:only-of-type {\n",
              "        vertical-align: middle;\n",
              "    }\n",
              "\n",
              "    .dataframe tbody tr th {\n",
              "        vertical-align: top;\n",
              "    }\n",
              "\n",
              "    .dataframe thead th {\n",
              "        text-align: right;\n",
              "    }\n",
              "</style>\n",
              "<table border=\"1\" class=\"dataframe\">\n",
              "  <thead>\n",
              "    <tr style=\"text-align: right;\">\n",
              "      <th></th>\n",
              "      <th>fldName</th>\n",
              "      <th>fldRecoverableOil</th>\n",
              "    </tr>\n",
              "  </thead>\n",
              "  <tbody>\n",
              "    <tr>\n",
              "      <th>0</th>\n",
              "      <td>ALBUSKJELL</td>\n",
              "      <td>7.35</td>\n",
              "    </tr>\n",
              "    <tr>\n",
              "      <th>1</th>\n",
              "      <td>ALVE</td>\n",
              "      <td>2.46</td>\n",
              "    </tr>\n",
              "    <tr>\n",
              "      <th>2</th>\n",
              "      <td>ALVHEIM</td>\n",
              "      <td>53.70</td>\n",
              "    </tr>\n",
              "    <tr>\n",
              "      <th>3</th>\n",
              "      <td>ATLA</td>\n",
              "      <td>0.40</td>\n",
              "    </tr>\n",
              "    <tr>\n",
              "      <th>4</th>\n",
              "      <td>BALDER</td>\n",
              "      <td>106.59</td>\n",
              "    </tr>\n",
              "  </tbody>\n",
              "</table>\n",
              "</div>"
            ],
            "text/plain": [
              "      fldName  fldRecoverableOil\n",
              "0  ALBUSKJELL               7.35\n",
              "1        ALVE               2.46\n",
              "2     ALVHEIM              53.70\n",
              "3        ATLA               0.40\n",
              "4      BALDER             106.59"
            ]
          },
          "metadata": {
            "tags": []
          },
          "execution_count": 7
        }
      ]
    },
    {
      "cell_type": "code",
      "metadata": {
        "colab": {
          "base_uri": "https://localhost:8080/"
        },
        "id": "GJ4O8aOzMMFF",
        "outputId": "cc8daf90-ede7-42c2-f2dd-4dc0098fd957"
      },
      "source": [
        "df2['fldInplaceOil'].value_counts"
      ],
      "execution_count": 8,
      "outputs": [
        {
          "output_type": "execute_result",
          "data": {
            "text/plain": [
              "<bound method IndexOpsMixin.value_counts of 0       56.00\n",
              "1        3.00\n",
              "2      110.67\n",
              "3        0.44\n",
              "4      263.20\n",
              "        ...  \n",
              "118      0.00\n",
              "119      1.38\n",
              "120      0.00\n",
              "121    192.25\n",
              "122      0.00\n",
              "Name: fldInplaceOil, Length: 123, dtype: float64>"
            ]
          },
          "metadata": {
            "tags": []
          },
          "execution_count": 8
        }
      ]
    },
    {
      "cell_type": "code",
      "metadata": {
        "colab": {
          "base_uri": "https://localhost:8080/"
        },
        "id": "0-e5ozr_Jux2",
        "outputId": "c36d80d5-b42a-40e9-a7ec-368ce6c6fa7b"
      },
      "source": [
        "df2.info()"
      ],
      "execution_count": 9,
      "outputs": [
        {
          "output_type": "stream",
          "text": [
            "<class 'pandas.core.frame.DataFrame'>\n",
            "RangeIndex: 123 entries, 0 to 122\n",
            "Data columns (total 8 columns):\n",
            " #   Column                   Non-Null Count  Dtype  \n",
            "---  ------                   --------------  -----  \n",
            " 0   fldName                  123 non-null    object \n",
            " 1   fldInplaceOil            123 non-null    float64\n",
            " 2   fldInplaceAssLiquid      123 non-null    float64\n",
            " 3   fldInplaceAssGas         123 non-null    float64\n",
            " 4   fldInplaceFreeGas        123 non-null    float64\n",
            " 5   fldDateOffResEstDisplay  123 non-null    object \n",
            " 6   fldNpdidField            123 non-null    int64  \n",
            " 7   DatesyncNPD              123 non-null    object \n",
            "dtypes: float64(4), int64(1), object(3)\n",
            "memory usage: 7.8+ KB\n"
          ],
          "name": "stdout"
        }
      ]
    },
    {
      "cell_type": "code",
      "metadata": {
        "colab": {
          "base_uri": "https://localhost:8080/"
        },
        "id": "iWCrCHUaL8FF",
        "outputId": "9ebc26d4-388a-41af-ceab-4faaf1faf001"
      },
      "source": [
        "df2.shape"
      ],
      "execution_count": 10,
      "outputs": [
        {
          "output_type": "execute_result",
          "data": {
            "text/plain": [
              "(123, 8)"
            ]
          },
          "metadata": {
            "tags": []
          },
          "execution_count": 10
        }
      ]
    },
    {
      "cell_type": "code",
      "metadata": {
        "colab": {
          "base_uri": "https://localhost:8080/",
          "height": 677
        },
        "id": "eBlb3QQ8OLxv",
        "outputId": "65a43399-096d-4b5f-889b-c9b6f33aaf14"
      },
      "source": [
        "df2[df2['fldInplaceOil'] == 0]"
      ],
      "execution_count": 11,
      "outputs": [
        {
          "output_type": "execute_result",
          "data": {
            "text/html": [
              "<div>\n",
              "<style scoped>\n",
              "    .dataframe tbody tr th:only-of-type {\n",
              "        vertical-align: middle;\n",
              "    }\n",
              "\n",
              "    .dataframe tbody tr th {\n",
              "        vertical-align: top;\n",
              "    }\n",
              "\n",
              "    .dataframe thead th {\n",
              "        text-align: right;\n",
              "    }\n",
              "</style>\n",
              "<table border=\"1\" class=\"dataframe\">\n",
              "  <thead>\n",
              "    <tr style=\"text-align: right;\">\n",
              "      <th></th>\n",
              "      <th>fldName</th>\n",
              "      <th>fldInplaceOil</th>\n",
              "      <th>fldInplaceAssLiquid</th>\n",
              "      <th>fldInplaceAssGas</th>\n",
              "      <th>fldInplaceFreeGas</th>\n",
              "      <th>fldDateOffResEstDisplay</th>\n",
              "      <th>fldNpdidField</th>\n",
              "      <th>DatesyncNPD</th>\n",
              "    </tr>\n",
              "  </thead>\n",
              "  <tbody>\n",
              "    <tr>\n",
              "      <th>14</th>\n",
              "      <td>DVALIN</td>\n",
              "      <td>0.0</td>\n",
              "      <td>0.60</td>\n",
              "      <td>0.0</td>\n",
              "      <td>25.45</td>\n",
              "      <td>31.12.2020</td>\n",
              "      <td>29393934</td>\n",
              "      <td>12.07.2021</td>\n",
              "    </tr>\n",
              "    <tr>\n",
              "      <th>37</th>\n",
              "      <td>GUNGNE</td>\n",
              "      <td>0.0</td>\n",
              "      <td>15.47</td>\n",
              "      <td>0.0</td>\n",
              "      <td>19.62</td>\n",
              "      <td>31.12.2020</td>\n",
              "      <td>43464</td>\n",
              "      <td>12.07.2021</td>\n",
              "    </tr>\n",
              "    <tr>\n",
              "      <th>43</th>\n",
              "      <td>HULDRA</td>\n",
              "      <td>0.0</td>\n",
              "      <td>9.30</td>\n",
              "      <td>0.0</td>\n",
              "      <td>22.70</td>\n",
              "      <td>31.12.2020</td>\n",
              "      <td>97002</td>\n",
              "      <td>12.07.2021</td>\n",
              "    </tr>\n",
              "    <tr>\n",
              "      <th>45</th>\n",
              "      <td>ISLAY</td>\n",
              "      <td>0.0</td>\n",
              "      <td>0.02</td>\n",
              "      <td>0.0</td>\n",
              "      <td>0.21</td>\n",
              "      <td>31.12.2020</td>\n",
              "      <td>21105675</td>\n",
              "      <td>12.07.2021</td>\n",
              "    </tr>\n",
              "    <tr>\n",
              "      <th>53</th>\n",
              "      <td>KVITEBJØRN</td>\n",
              "      <td>0.0</td>\n",
              "      <td>67.55</td>\n",
              "      <td>0.0</td>\n",
              "      <td>151.60</td>\n",
              "      <td>31.12.2020</td>\n",
              "      <td>1036101</td>\n",
              "      <td>12.07.2021</td>\n",
              "    </tr>\n",
              "    <tr>\n",
              "      <th>57</th>\n",
              "      <td>MARULK</td>\n",
              "      <td>0.0</td>\n",
              "      <td>1.70</td>\n",
              "      <td>0.0</td>\n",
              "      <td>13.10</td>\n",
              "      <td>31.12.2020</td>\n",
              "      <td>18212090</td>\n",
              "      <td>12.07.2021</td>\n",
              "    </tr>\n",
              "    <tr>\n",
              "      <th>58</th>\n",
              "      <td>MIKKEL</td>\n",
              "      <td>0.0</td>\n",
              "      <td>18.60</td>\n",
              "      <td>4.2</td>\n",
              "      <td>42.70</td>\n",
              "      <td>31.12.2020</td>\n",
              "      <td>1630514</td>\n",
              "      <td>12.07.2021</td>\n",
              "    </tr>\n",
              "    <tr>\n",
              "      <th>63</th>\n",
              "      <td>NORDØST FRIGG</td>\n",
              "      <td>0.0</td>\n",
              "      <td>0.12</td>\n",
              "      <td>0.0</td>\n",
              "      <td>35.10</td>\n",
              "      <td>31.12.2020</td>\n",
              "      <td>43568</td>\n",
              "      <td>12.07.2021</td>\n",
              "    </tr>\n",
              "    <tr>\n",
              "      <th>68</th>\n",
              "      <td>ORMEN LANGE</td>\n",
              "      <td>0.0</td>\n",
              "      <td>37.00</td>\n",
              "      <td>0.2</td>\n",
              "      <td>398.00</td>\n",
              "      <td>31.12.2020</td>\n",
              "      <td>2762452</td>\n",
              "      <td>12.07.2021</td>\n",
              "    </tr>\n",
              "    <tr>\n",
              "      <th>73</th>\n",
              "      <td>REV</td>\n",
              "      <td>0.0</td>\n",
              "      <td>1.60</td>\n",
              "      <td>0.0</td>\n",
              "      <td>3.60</td>\n",
              "      <td>31.12.2020</td>\n",
              "      <td>4467554</td>\n",
              "      <td>12.07.2021</td>\n",
              "    </tr>\n",
              "    <tr>\n",
              "      <th>75</th>\n",
              "      <td>SIGYN</td>\n",
              "      <td>0.0</td>\n",
              "      <td>24.30</td>\n",
              "      <td>3.1</td>\n",
              "      <td>6.40</td>\n",
              "      <td>31.12.2020</td>\n",
              "      <td>1630100</td>\n",
              "      <td>12.07.2021</td>\n",
              "    </tr>\n",
              "    <tr>\n",
              "      <th>82</th>\n",
              "      <td>SLEIPNER ØST</td>\n",
              "      <td>0.0</td>\n",
              "      <td>77.45</td>\n",
              "      <td>0.0</td>\n",
              "      <td>90.70</td>\n",
              "      <td>31.12.2020</td>\n",
              "      <td>43478</td>\n",
              "      <td>12.07.2021</td>\n",
              "    </tr>\n",
              "    <tr>\n",
              "      <th>84</th>\n",
              "      <td>SNØHVIT</td>\n",
              "      <td>0.0</td>\n",
              "      <td>40.84</td>\n",
              "      <td>11.1</td>\n",
              "      <td>347.30</td>\n",
              "      <td>31.12.2020</td>\n",
              "      <td>2053062</td>\n",
              "      <td>12.07.2021</td>\n",
              "    </tr>\n",
              "    <tr>\n",
              "      <th>98</th>\n",
              "      <td>TRYM</td>\n",
              "      <td>0.0</td>\n",
              "      <td>3.80</td>\n",
              "      <td>0.0</td>\n",
              "      <td>6.20</td>\n",
              "      <td>31.12.2020</td>\n",
              "      <td>18081500</td>\n",
              "      <td>12.07.2021</td>\n",
              "    </tr>\n",
              "    <tr>\n",
              "      <th>103</th>\n",
              "      <td>UTGARD</td>\n",
              "      <td>0.0</td>\n",
              "      <td>6.43</td>\n",
              "      <td>0.0</td>\n",
              "      <td>4.97</td>\n",
              "      <td>31.12.2020</td>\n",
              "      <td>28975098</td>\n",
              "      <td>12.07.2021</td>\n",
              "    </tr>\n",
              "    <tr>\n",
              "      <th>104</th>\n",
              "      <td>VALE</td>\n",
              "      <td>0.0</td>\n",
              "      <td>10.00</td>\n",
              "      <td>0.0</td>\n",
              "      <td>8.30</td>\n",
              "      <td>31.12.2020</td>\n",
              "      <td>1578893</td>\n",
              "      <td>12.07.2021</td>\n",
              "    </tr>\n",
              "    <tr>\n",
              "      <th>105</th>\n",
              "      <td>VALEMON</td>\n",
              "      <td>0.0</td>\n",
              "      <td>12.92</td>\n",
              "      <td>0.0</td>\n",
              "      <td>61.20</td>\n",
              "      <td>31.12.2020</td>\n",
              "      <td>20460969</td>\n",
              "      <td>12.07.2021</td>\n",
              "    </tr>\n",
              "    <tr>\n",
              "      <th>118</th>\n",
              "      <td>YTTERGRYTA</td>\n",
              "      <td>0.0</td>\n",
              "      <td>1.31</td>\n",
              "      <td>0.0</td>\n",
              "      <td>7.39</td>\n",
              "      <td>31.12.2020</td>\n",
              "      <td>4973114</td>\n",
              "      <td>12.07.2021</td>\n",
              "    </tr>\n",
              "    <tr>\n",
              "      <th>120</th>\n",
              "      <td>ØST FRIGG</td>\n",
              "      <td>0.0</td>\n",
              "      <td>0.13</td>\n",
              "      <td>0.0</td>\n",
              "      <td>21.37</td>\n",
              "      <td>31.12.2020</td>\n",
              "      <td>43576</td>\n",
              "      <td>12.07.2021</td>\n",
              "    </tr>\n",
              "    <tr>\n",
              "      <th>122</th>\n",
              "      <td>AASTA HANSTEEN</td>\n",
              "      <td>0.0</td>\n",
              "      <td>1.41</td>\n",
              "      <td>0.0</td>\n",
              "      <td>78.69</td>\n",
              "      <td>31.12.2020</td>\n",
              "      <td>23395946</td>\n",
              "      <td>12.07.2021</td>\n",
              "    </tr>\n",
              "  </tbody>\n",
              "</table>\n",
              "</div>"
            ],
            "text/plain": [
              "            fldName  fldInplaceOil  ...  fldNpdidField  DatesyncNPD\n",
              "14           DVALIN            0.0  ...       29393934   12.07.2021\n",
              "37           GUNGNE            0.0  ...          43464   12.07.2021\n",
              "43           HULDRA            0.0  ...          97002   12.07.2021\n",
              "45            ISLAY            0.0  ...       21105675   12.07.2021\n",
              "53       KVITEBJØRN            0.0  ...        1036101   12.07.2021\n",
              "57           MARULK            0.0  ...       18212090   12.07.2021\n",
              "58           MIKKEL            0.0  ...        1630514   12.07.2021\n",
              "63    NORDØST FRIGG            0.0  ...          43568   12.07.2021\n",
              "68      ORMEN LANGE            0.0  ...        2762452   12.07.2021\n",
              "73              REV            0.0  ...        4467554   12.07.2021\n",
              "75            SIGYN            0.0  ...        1630100   12.07.2021\n",
              "82     SLEIPNER ØST            0.0  ...          43478   12.07.2021\n",
              "84          SNØHVIT            0.0  ...        2053062   12.07.2021\n",
              "98             TRYM            0.0  ...       18081500   12.07.2021\n",
              "103          UTGARD            0.0  ...       28975098   12.07.2021\n",
              "104            VALE            0.0  ...        1578893   12.07.2021\n",
              "105         VALEMON            0.0  ...       20460969   12.07.2021\n",
              "118      YTTERGRYTA            0.0  ...        4973114   12.07.2021\n",
              "120       ØST FRIGG            0.0  ...          43576   12.07.2021\n",
              "122  AASTA HANSTEEN            0.0  ...       23395946   12.07.2021\n",
              "\n",
              "[20 rows x 8 columns]"
            ]
          },
          "metadata": {
            "tags": []
          },
          "execution_count": 11
        }
      ]
    },
    {
      "cell_type": "code",
      "metadata": {
        "colab": {
          "base_uri": "https://localhost:8080/"
        },
        "id": "a0GUqumaOxV_",
        "outputId": "4f6fc4ab-8dda-494b-b609-d37eabcc3234"
      },
      "source": [
        "df2[df2['fldInplaceOil'] == 0].shape"
      ],
      "execution_count": 12,
      "outputs": [
        {
          "output_type": "execute_result",
          "data": {
            "text/plain": [
              "(20, 8)"
            ]
          },
          "metadata": {
            "tags": []
          },
          "execution_count": 12
        }
      ]
    },
    {
      "cell_type": "code",
      "metadata": {
        "colab": {
          "base_uri": "https://localhost:8080/"
        },
        "id": "Lo7RY2G9JhqE",
        "outputId": "9fa70b2c-d0d1-49a3-95a0-b2bcf12bd37d"
      },
      "source": [
        "df2['fldInplaceOil'][df2['fldInplaceOil'] != 0].min()"
      ],
      "execution_count": 13,
      "outputs": [
        {
          "output_type": "execute_result",
          "data": {
            "text/plain": [
              "0.44"
            ]
          },
          "metadata": {
            "tags": []
          },
          "execution_count": 13
        }
      ]
    },
    {
      "cell_type": "code",
      "metadata": {
        "colab": {
          "base_uri": "https://localhost:8080/"
        },
        "id": "n3_FDV-lL6fN",
        "outputId": "9302d0d0-0b62-41c0-875d-792f7ac04e4c"
      },
      "source": [
        "(20/123)*100"
      ],
      "execution_count": 14,
      "outputs": [
        {
          "output_type": "execute_result",
          "data": {
            "text/plain": [
              "16.260162601626014"
            ]
          },
          "metadata": {
            "tags": []
          },
          "execution_count": 14
        }
      ]
    },
    {
      "cell_type": "code",
      "metadata": {
        "colab": {
          "base_uri": "https://localhost:8080/"
        },
        "id": "30dz1JSwKCdV",
        "outputId": "f30f03a6-7ac9-4321-8104-bcad6e98cf98"
      },
      "source": [
        "df2['fldInplaceOil'].min()"
      ],
      "execution_count": 15,
      "outputs": [
        {
          "output_type": "execute_result",
          "data": {
            "text/plain": [
              "0.0"
            ]
          },
          "metadata": {
            "tags": []
          },
          "execution_count": 15
        }
      ]
    },
    {
      "cell_type": "code",
      "metadata": {
        "id": "oYOEesCxO6wt"
      },
      "source": [
        "# merge df2 with df_fldInplaceOil\n",
        "df2 = pd.merge(df2, df_fldInplaceOil, on='fldName')"
      ],
      "execution_count": 16,
      "outputs": []
    },
    {
      "cell_type": "code",
      "metadata": {
        "colab": {
          "base_uri": "https://localhost:8080/",
          "height": 206
        },
        "id": "z0OuqIoeS1WH",
        "outputId": "a7ef3f57-54d1-45ce-9607-7398325fb1c3"
      },
      "source": [
        "df2.head()"
      ],
      "execution_count": 17,
      "outputs": [
        {
          "output_type": "execute_result",
          "data": {
            "text/html": [
              "<div>\n",
              "<style scoped>\n",
              "    .dataframe tbody tr th:only-of-type {\n",
              "        vertical-align: middle;\n",
              "    }\n",
              "\n",
              "    .dataframe tbody tr th {\n",
              "        vertical-align: top;\n",
              "    }\n",
              "\n",
              "    .dataframe thead th {\n",
              "        text-align: right;\n",
              "    }\n",
              "</style>\n",
              "<table border=\"1\" class=\"dataframe\">\n",
              "  <thead>\n",
              "    <tr style=\"text-align: right;\">\n",
              "      <th></th>\n",
              "      <th>fldName</th>\n",
              "      <th>fldInplaceOil</th>\n",
              "      <th>fldInplaceAssLiquid</th>\n",
              "      <th>fldInplaceAssGas</th>\n",
              "      <th>fldInplaceFreeGas</th>\n",
              "      <th>fldDateOffResEstDisplay</th>\n",
              "      <th>fldNpdidField</th>\n",
              "      <th>DatesyncNPD</th>\n",
              "      <th>fldRecoverableOil</th>\n",
              "    </tr>\n",
              "  </thead>\n",
              "  <tbody>\n",
              "    <tr>\n",
              "      <th>0</th>\n",
              "      <td>ALBUSKJELL</td>\n",
              "      <td>56.00</td>\n",
              "      <td>0.0</td>\n",
              "      <td>64.00</td>\n",
              "      <td>0.00</td>\n",
              "      <td>31.12.2020</td>\n",
              "      <td>43437</td>\n",
              "      <td>12.07.2021</td>\n",
              "      <td>7.35</td>\n",
              "    </tr>\n",
              "    <tr>\n",
              "      <th>1</th>\n",
              "      <td>ALVE</td>\n",
              "      <td>3.00</td>\n",
              "      <td>2.5</td>\n",
              "      <td>1.10</td>\n",
              "      <td>13.50</td>\n",
              "      <td>31.12.2020</td>\n",
              "      <td>4444332</td>\n",
              "      <td>12.07.2021</td>\n",
              "      <td>2.46</td>\n",
              "    </tr>\n",
              "    <tr>\n",
              "      <th>2</th>\n",
              "      <td>ALVHEIM</td>\n",
              "      <td>110.67</td>\n",
              "      <td>0.0</td>\n",
              "      <td>10.57</td>\n",
              "      <td>11.69</td>\n",
              "      <td>31.12.2020</td>\n",
              "      <td>2845712</td>\n",
              "      <td>12.07.2021</td>\n",
              "      <td>53.70</td>\n",
              "    </tr>\n",
              "    <tr>\n",
              "      <th>3</th>\n",
              "      <td>ATLA</td>\n",
              "      <td>0.44</td>\n",
              "      <td>0.0</td>\n",
              "      <td>0.00</td>\n",
              "      <td>1.88</td>\n",
              "      <td>31.12.2020</td>\n",
              "      <td>21106284</td>\n",
              "      <td>12.07.2021</td>\n",
              "      <td>0.40</td>\n",
              "    </tr>\n",
              "    <tr>\n",
              "      <th>4</th>\n",
              "      <td>BALDER</td>\n",
              "      <td>263.20</td>\n",
              "      <td>0.0</td>\n",
              "      <td>14.33</td>\n",
              "      <td>0.00</td>\n",
              "      <td>31.12.2020</td>\n",
              "      <td>43562</td>\n",
              "      <td>12.07.2021</td>\n",
              "      <td>106.59</td>\n",
              "    </tr>\n",
              "  </tbody>\n",
              "</table>\n",
              "</div>"
            ],
            "text/plain": [
              "      fldName  fldInplaceOil  ...  DatesyncNPD  fldRecoverableOil\n",
              "0  ALBUSKJELL          56.00  ...   12.07.2021               7.35\n",
              "1        ALVE           3.00  ...   12.07.2021               2.46\n",
              "2     ALVHEIM         110.67  ...   12.07.2021              53.70\n",
              "3        ATLA           0.44  ...   12.07.2021               0.40\n",
              "4      BALDER         263.20  ...   12.07.2021             106.59\n",
              "\n",
              "[5 rows x 9 columns]"
            ]
          },
          "metadata": {
            "tags": []
          },
          "execution_count": 17
        }
      ]
    },
    {
      "cell_type": "code",
      "metadata": {
        "colab": {
          "base_uri": "https://localhost:8080/"
        },
        "id": "a9nzTgSUPY4N",
        "outputId": "a13ab156-6f2d-416b-c8a8-cf969b4612a0"
      },
      "source": [
        "df2['fldInplaceOil'].min()"
      ],
      "execution_count": 18,
      "outputs": [
        {
          "output_type": "execute_result",
          "data": {
            "text/plain": [
              "0.0"
            ]
          },
          "metadata": {
            "tags": []
          },
          "execution_count": 18
        }
      ]
    },
    {
      "cell_type": "code",
      "metadata": {
        "id": "-xT4GjpqTIt2"
      },
      "source": [
        "df2 = df2[df2['fldInplaceOil'] !=0]"
      ],
      "execution_count": 19,
      "outputs": []
    },
    {
      "cell_type": "code",
      "metadata": {
        "colab": {
          "base_uri": "https://localhost:8080/"
        },
        "id": "WMq-ZTtdTR11",
        "outputId": "ac48a846-0243-46bf-b0cc-d46223db84df"
      },
      "source": [
        "df2['fldInplaceOil'].min()"
      ],
      "execution_count": 20,
      "outputs": [
        {
          "output_type": "execute_result",
          "data": {
            "text/plain": [
              "0.44"
            ]
          },
          "metadata": {
            "tags": []
          },
          "execution_count": 20
        }
      ]
    },
    {
      "cell_type": "code",
      "metadata": {
        "id": "b0y5fYQ8Fit7"
      },
      "source": [
        "df2['RF'] = (df2['fldRecoverableOil'])/(df2['fldInplaceOil'])"
      ],
      "execution_count": 21,
      "outputs": []
    },
    {
      "cell_type": "code",
      "metadata": {
        "colab": {
          "base_uri": "https://localhost:8080/",
          "height": 520
        },
        "id": "Gcbq5nqzPxpN",
        "outputId": "53c1f6aa-3b1a-4b4c-9ec6-89589c5c8e53"
      },
      "source": [
        "df2.head(15)"
      ],
      "execution_count": 22,
      "outputs": [
        {
          "output_type": "execute_result",
          "data": {
            "text/html": [
              "<div>\n",
              "<style scoped>\n",
              "    .dataframe tbody tr th:only-of-type {\n",
              "        vertical-align: middle;\n",
              "    }\n",
              "\n",
              "    .dataframe tbody tr th {\n",
              "        vertical-align: top;\n",
              "    }\n",
              "\n",
              "    .dataframe thead th {\n",
              "        text-align: right;\n",
              "    }\n",
              "</style>\n",
              "<table border=\"1\" class=\"dataframe\">\n",
              "  <thead>\n",
              "    <tr style=\"text-align: right;\">\n",
              "      <th></th>\n",
              "      <th>fldName</th>\n",
              "      <th>fldInplaceOil</th>\n",
              "      <th>fldInplaceAssLiquid</th>\n",
              "      <th>fldInplaceAssGas</th>\n",
              "      <th>fldInplaceFreeGas</th>\n",
              "      <th>fldDateOffResEstDisplay</th>\n",
              "      <th>fldNpdidField</th>\n",
              "      <th>DatesyncNPD</th>\n",
              "      <th>fldRecoverableOil</th>\n",
              "      <th>RF</th>\n",
              "    </tr>\n",
              "  </thead>\n",
              "  <tbody>\n",
              "    <tr>\n",
              "      <th>0</th>\n",
              "      <td>ALBUSKJELL</td>\n",
              "      <td>56.00</td>\n",
              "      <td>0.00</td>\n",
              "      <td>64.00</td>\n",
              "      <td>0.00</td>\n",
              "      <td>31.12.2020</td>\n",
              "      <td>43437</td>\n",
              "      <td>12.07.2021</td>\n",
              "      <td>7.35</td>\n",
              "      <td>0.131250</td>\n",
              "    </tr>\n",
              "    <tr>\n",
              "      <th>1</th>\n",
              "      <td>ALVE</td>\n",
              "      <td>3.00</td>\n",
              "      <td>2.50</td>\n",
              "      <td>1.10</td>\n",
              "      <td>13.50</td>\n",
              "      <td>31.12.2020</td>\n",
              "      <td>4444332</td>\n",
              "      <td>12.07.2021</td>\n",
              "      <td>2.46</td>\n",
              "      <td>0.820000</td>\n",
              "    </tr>\n",
              "    <tr>\n",
              "      <th>2</th>\n",
              "      <td>ALVHEIM</td>\n",
              "      <td>110.67</td>\n",
              "      <td>0.00</td>\n",
              "      <td>10.57</td>\n",
              "      <td>11.69</td>\n",
              "      <td>31.12.2020</td>\n",
              "      <td>2845712</td>\n",
              "      <td>12.07.2021</td>\n",
              "      <td>53.70</td>\n",
              "      <td>0.485226</td>\n",
              "    </tr>\n",
              "    <tr>\n",
              "      <th>3</th>\n",
              "      <td>ATLA</td>\n",
              "      <td>0.44</td>\n",
              "      <td>0.00</td>\n",
              "      <td>0.00</td>\n",
              "      <td>1.88</td>\n",
              "      <td>31.12.2020</td>\n",
              "      <td>21106284</td>\n",
              "      <td>12.07.2021</td>\n",
              "      <td>0.40</td>\n",
              "      <td>0.909091</td>\n",
              "    </tr>\n",
              "    <tr>\n",
              "      <th>4</th>\n",
              "      <td>BALDER</td>\n",
              "      <td>263.20</td>\n",
              "      <td>0.00</td>\n",
              "      <td>14.33</td>\n",
              "      <td>0.00</td>\n",
              "      <td>31.12.2020</td>\n",
              "      <td>43562</td>\n",
              "      <td>12.07.2021</td>\n",
              "      <td>106.59</td>\n",
              "      <td>0.404977</td>\n",
              "    </tr>\n",
              "    <tr>\n",
              "      <th>5</th>\n",
              "      <td>BAUGE</td>\n",
              "      <td>20.20</td>\n",
              "      <td>0.00</td>\n",
              "      <td>6.10</td>\n",
              "      <td>0.00</td>\n",
              "      <td>31.12.2020</td>\n",
              "      <td>29446221</td>\n",
              "      <td>12.07.2021</td>\n",
              "      <td>8.01</td>\n",
              "      <td>0.396535</td>\n",
              "    </tr>\n",
              "    <tr>\n",
              "      <th>6</th>\n",
              "      <td>BLANE</td>\n",
              "      <td>2.68</td>\n",
              "      <td>0.00</td>\n",
              "      <td>0.00</td>\n",
              "      <td>0.00</td>\n",
              "      <td>31.12.2020</td>\n",
              "      <td>3437650</td>\n",
              "      <td>12.07.2021</td>\n",
              "      <td>0.88</td>\n",
              "      <td>0.328358</td>\n",
              "    </tr>\n",
              "    <tr>\n",
              "      <th>7</th>\n",
              "      <td>BRAGE</td>\n",
              "      <td>158.30</td>\n",
              "      <td>12.51</td>\n",
              "      <td>15.92</td>\n",
              "      <td>4.80</td>\n",
              "      <td>31.12.2020</td>\n",
              "      <td>43651</td>\n",
              "      <td>12.07.2021</td>\n",
              "      <td>62.56</td>\n",
              "      <td>0.395199</td>\n",
              "    </tr>\n",
              "    <tr>\n",
              "      <th>8</th>\n",
              "      <td>BRYNHILD</td>\n",
              "      <td>5.70</td>\n",
              "      <td>0.00</td>\n",
              "      <td>0.18</td>\n",
              "      <td>0.00</td>\n",
              "      <td>31.12.2020</td>\n",
              "      <td>21123063</td>\n",
              "      <td>12.07.2021</td>\n",
              "      <td>0.49</td>\n",
              "      <td>0.085965</td>\n",
              "    </tr>\n",
              "    <tr>\n",
              "      <th>9</th>\n",
              "      <td>BYRDING</td>\n",
              "      <td>6.59</td>\n",
              "      <td>0.00</td>\n",
              "      <td>1.25</td>\n",
              "      <td>0.62</td>\n",
              "      <td>31.12.2020</td>\n",
              "      <td>28975067</td>\n",
              "      <td>12.07.2021</td>\n",
              "      <td>1.01</td>\n",
              "      <td>0.153263</td>\n",
              "    </tr>\n",
              "    <tr>\n",
              "      <th>10</th>\n",
              "      <td>BØYLA</td>\n",
              "      <td>7.46</td>\n",
              "      <td>0.00</td>\n",
              "      <td>0.60</td>\n",
              "      <td>0.00</td>\n",
              "      <td>31.12.2020</td>\n",
              "      <td>22492497</td>\n",
              "      <td>12.07.2021</td>\n",
              "      <td>2.60</td>\n",
              "      <td>0.348525</td>\n",
              "    </tr>\n",
              "    <tr>\n",
              "      <th>11</th>\n",
              "      <td>COD</td>\n",
              "      <td>4.50</td>\n",
              "      <td>0.00</td>\n",
              "      <td>10.80</td>\n",
              "      <td>0.00</td>\n",
              "      <td>31.12.2020</td>\n",
              "      <td>43785</td>\n",
              "      <td>12.07.2021</td>\n",
              "      <td>2.88</td>\n",
              "      <td>0.640000</td>\n",
              "    </tr>\n",
              "    <tr>\n",
              "      <th>12</th>\n",
              "      <td>DRAUGEN</td>\n",
              "      <td>224.40</td>\n",
              "      <td>0.00</td>\n",
              "      <td>11.80</td>\n",
              "      <td>0.00</td>\n",
              "      <td>31.12.2020</td>\n",
              "      <td>43758</td>\n",
              "      <td>12.07.2021</td>\n",
              "      <td>150.92</td>\n",
              "      <td>0.672549</td>\n",
              "    </tr>\n",
              "    <tr>\n",
              "      <th>13</th>\n",
              "      <td>DUVA</td>\n",
              "      <td>11.50</td>\n",
              "      <td>0.40</td>\n",
              "      <td>1.20</td>\n",
              "      <td>7.70</td>\n",
              "      <td>31.12.2020</td>\n",
              "      <td>34833026</td>\n",
              "      <td>12.07.2021</td>\n",
              "      <td>3.61</td>\n",
              "      <td>0.313913</td>\n",
              "    </tr>\n",
              "    <tr>\n",
              "      <th>15</th>\n",
              "      <td>EDDA</td>\n",
              "      <td>16.30</td>\n",
              "      <td>0.00</td>\n",
              "      <td>5.00</td>\n",
              "      <td>0.00</td>\n",
              "      <td>31.12.2020</td>\n",
              "      <td>43541</td>\n",
              "      <td>12.07.2021</td>\n",
              "      <td>4.82</td>\n",
              "      <td>0.295706</td>\n",
              "    </tr>\n",
              "  </tbody>\n",
              "</table>\n",
              "</div>"
            ],
            "text/plain": [
              "       fldName  fldInplaceOil  ...  fldRecoverableOil        RF\n",
              "0   ALBUSKJELL          56.00  ...               7.35  0.131250\n",
              "1         ALVE           3.00  ...               2.46  0.820000\n",
              "2      ALVHEIM         110.67  ...              53.70  0.485226\n",
              "3         ATLA           0.44  ...               0.40  0.909091\n",
              "4       BALDER         263.20  ...             106.59  0.404977\n",
              "5        BAUGE          20.20  ...               8.01  0.396535\n",
              "6        BLANE           2.68  ...               0.88  0.328358\n",
              "7        BRAGE         158.30  ...              62.56  0.395199\n",
              "8     BRYNHILD           5.70  ...               0.49  0.085965\n",
              "9      BYRDING           6.59  ...               1.01  0.153263\n",
              "10       BØYLA           7.46  ...               2.60  0.348525\n",
              "11         COD           4.50  ...               2.88  0.640000\n",
              "12     DRAUGEN         224.40  ...             150.92  0.672549\n",
              "13        DUVA          11.50  ...               3.61  0.313913\n",
              "15        EDDA          16.30  ...               4.82  0.295706\n",
              "\n",
              "[15 rows x 10 columns]"
            ]
          },
          "metadata": {
            "tags": []
          },
          "execution_count": 22
        }
      ]
    },
    {
      "cell_type": "code",
      "metadata": {
        "colab": {
          "base_uri": "https://localhost:8080/"
        },
        "id": "f0W9AQuuXTYo",
        "outputId": "b241be6c-c8c4-4629-8747-df735b970636"
      },
      "source": [
        "df2.shape"
      ],
      "execution_count": 23,
      "outputs": [
        {
          "output_type": "execute_result",
          "data": {
            "text/plain": [
              "(103, 10)"
            ]
          },
          "metadata": {
            "tags": []
          },
          "execution_count": 23
        }
      ]
    },
    {
      "cell_type": "code",
      "metadata": {
        "colab": {
          "base_uri": "https://localhost:8080/"
        },
        "id": "9hhnP1lmRt5A",
        "outputId": "f5dcee2e-38b7-43b4-fc91-8a5969553ad5"
      },
      "source": [
        "df2['RF'].max"
      ],
      "execution_count": 24,
      "outputs": [
        {
          "output_type": "execute_result",
          "data": {
            "text/plain": [
              "<bound method Series.max of 0      0.131250\n",
              "1      0.820000\n",
              "2      0.485226\n",
              "3      0.909091\n",
              "4      0.404977\n",
              "         ...   \n",
              "115    0.567742\n",
              "116    0.543850\n",
              "117    0.326825\n",
              "119    0.224638\n",
              "121    0.551417\n",
              "Name: RF, Length: 103, dtype: float64>"
            ]
          },
          "metadata": {
            "tags": []
          },
          "execution_count": 24
        }
      ]
    },
    {
      "cell_type": "code",
      "metadata": {
        "colab": {
          "base_uri": "https://localhost:8080/"
        },
        "id": "DJjuJiQQW2cm",
        "outputId": "78a25230-2ad8-4013-9df0-d1a699c76500"
      },
      "source": [
        "df2['fldRecoverableOil'].min()"
      ],
      "execution_count": 25,
      "outputs": [
        {
          "output_type": "execute_result",
          "data": {
            "text/plain": [
              "0.0"
            ]
          },
          "metadata": {
            "tags": []
          },
          "execution_count": 25
        }
      ]
    },
    {
      "cell_type": "code",
      "metadata": {
        "colab": {
          "base_uri": "https://localhost:8080/"
        },
        "id": "h2XAmGFoXCPW",
        "outputId": "10f08e90-b300-4b34-9f83-7e4f5af0cbe8"
      },
      "source": [
        "df2[df2['fldRecoverableOil'] == 0].shape"
      ],
      "execution_count": 26,
      "outputs": [
        {
          "output_type": "execute_result",
          "data": {
            "text/plain": [
              "(2, 10)"
            ]
          },
          "metadata": {
            "tags": []
          },
          "execution_count": 26
        }
      ]
    },
    {
      "cell_type": "code",
      "metadata": {
        "id": "CIM1HTa_XJc2"
      },
      "source": [
        "df2 = df2[df2['fldRecoverableOil'] !=0]"
      ],
      "execution_count": 27,
      "outputs": []
    },
    {
      "cell_type": "code",
      "metadata": {
        "colab": {
          "base_uri": "https://localhost:8080/"
        },
        "id": "fidOI4uvXL-m",
        "outputId": "2e91d525-ce5c-4519-a3b4-83b7a1e0e6b4"
      },
      "source": [
        "df2[df2['fldRecoverableOil'] == 0].shape"
      ],
      "execution_count": 28,
      "outputs": [
        {
          "output_type": "execute_result",
          "data": {
            "text/plain": [
              "(0, 10)"
            ]
          },
          "metadata": {
            "tags": []
          },
          "execution_count": 28
        }
      ]
    },
    {
      "cell_type": "code",
      "metadata": {
        "colab": {
          "base_uri": "https://localhost:8080/"
        },
        "id": "tpMDHaY4XYqm",
        "outputId": "421d3f7f-009e-4e53-bcce-7ea59afcdadc"
      },
      "source": [
        "df2['fldRecoverableOil'].min()"
      ],
      "execution_count": 29,
      "outputs": [
        {
          "output_type": "execute_result",
          "data": {
            "text/plain": [
              "0.02"
            ]
          },
          "metadata": {
            "tags": []
          },
          "execution_count": 29
        }
      ]
    },
    {
      "cell_type": "code",
      "metadata": {
        "id": "L4bVfFLeP0hd"
      },
      "source": [
        "import numpy as np\n",
        "df2['fldRecoverableOil_log10'] = np.log10(df2['fldRecoverableOil'])"
      ],
      "execution_count": 30,
      "outputs": []
    },
    {
      "cell_type": "code",
      "metadata": {
        "colab": {
          "base_uri": "https://localhost:8080/",
          "height": 520
        },
        "id": "gD7vD7-MWsj_",
        "outputId": "8f17d964-c8ea-4e2a-b436-c9d9ceb7eb4a"
      },
      "source": [
        "df2.head(15)"
      ],
      "execution_count": 31,
      "outputs": [
        {
          "output_type": "execute_result",
          "data": {
            "text/html": [
              "<div>\n",
              "<style scoped>\n",
              "    .dataframe tbody tr th:only-of-type {\n",
              "        vertical-align: middle;\n",
              "    }\n",
              "\n",
              "    .dataframe tbody tr th {\n",
              "        vertical-align: top;\n",
              "    }\n",
              "\n",
              "    .dataframe thead th {\n",
              "        text-align: right;\n",
              "    }\n",
              "</style>\n",
              "<table border=\"1\" class=\"dataframe\">\n",
              "  <thead>\n",
              "    <tr style=\"text-align: right;\">\n",
              "      <th></th>\n",
              "      <th>fldName</th>\n",
              "      <th>fldInplaceOil</th>\n",
              "      <th>fldInplaceAssLiquid</th>\n",
              "      <th>fldInplaceAssGas</th>\n",
              "      <th>fldInplaceFreeGas</th>\n",
              "      <th>fldDateOffResEstDisplay</th>\n",
              "      <th>fldNpdidField</th>\n",
              "      <th>DatesyncNPD</th>\n",
              "      <th>fldRecoverableOil</th>\n",
              "      <th>RF</th>\n",
              "      <th>fldRecoverableOil_log10</th>\n",
              "    </tr>\n",
              "  </thead>\n",
              "  <tbody>\n",
              "    <tr>\n",
              "      <th>0</th>\n",
              "      <td>ALBUSKJELL</td>\n",
              "      <td>56.00</td>\n",
              "      <td>0.00</td>\n",
              "      <td>64.00</td>\n",
              "      <td>0.00</td>\n",
              "      <td>31.12.2020</td>\n",
              "      <td>43437</td>\n",
              "      <td>12.07.2021</td>\n",
              "      <td>7.35</td>\n",
              "      <td>0.131250</td>\n",
              "      <td>0.866287</td>\n",
              "    </tr>\n",
              "    <tr>\n",
              "      <th>1</th>\n",
              "      <td>ALVE</td>\n",
              "      <td>3.00</td>\n",
              "      <td>2.50</td>\n",
              "      <td>1.10</td>\n",
              "      <td>13.50</td>\n",
              "      <td>31.12.2020</td>\n",
              "      <td>4444332</td>\n",
              "      <td>12.07.2021</td>\n",
              "      <td>2.46</td>\n",
              "      <td>0.820000</td>\n",
              "      <td>0.390935</td>\n",
              "    </tr>\n",
              "    <tr>\n",
              "      <th>2</th>\n",
              "      <td>ALVHEIM</td>\n",
              "      <td>110.67</td>\n",
              "      <td>0.00</td>\n",
              "      <td>10.57</td>\n",
              "      <td>11.69</td>\n",
              "      <td>31.12.2020</td>\n",
              "      <td>2845712</td>\n",
              "      <td>12.07.2021</td>\n",
              "      <td>53.70</td>\n",
              "      <td>0.485226</td>\n",
              "      <td>1.729974</td>\n",
              "    </tr>\n",
              "    <tr>\n",
              "      <th>3</th>\n",
              "      <td>ATLA</td>\n",
              "      <td>0.44</td>\n",
              "      <td>0.00</td>\n",
              "      <td>0.00</td>\n",
              "      <td>1.88</td>\n",
              "      <td>31.12.2020</td>\n",
              "      <td>21106284</td>\n",
              "      <td>12.07.2021</td>\n",
              "      <td>0.40</td>\n",
              "      <td>0.909091</td>\n",
              "      <td>-0.397940</td>\n",
              "    </tr>\n",
              "    <tr>\n",
              "      <th>4</th>\n",
              "      <td>BALDER</td>\n",
              "      <td>263.20</td>\n",
              "      <td>0.00</td>\n",
              "      <td>14.33</td>\n",
              "      <td>0.00</td>\n",
              "      <td>31.12.2020</td>\n",
              "      <td>43562</td>\n",
              "      <td>12.07.2021</td>\n",
              "      <td>106.59</td>\n",
              "      <td>0.404977</td>\n",
              "      <td>2.027716</td>\n",
              "    </tr>\n",
              "    <tr>\n",
              "      <th>5</th>\n",
              "      <td>BAUGE</td>\n",
              "      <td>20.20</td>\n",
              "      <td>0.00</td>\n",
              "      <td>6.10</td>\n",
              "      <td>0.00</td>\n",
              "      <td>31.12.2020</td>\n",
              "      <td>29446221</td>\n",
              "      <td>12.07.2021</td>\n",
              "      <td>8.01</td>\n",
              "      <td>0.396535</td>\n",
              "      <td>0.903633</td>\n",
              "    </tr>\n",
              "    <tr>\n",
              "      <th>6</th>\n",
              "      <td>BLANE</td>\n",
              "      <td>2.68</td>\n",
              "      <td>0.00</td>\n",
              "      <td>0.00</td>\n",
              "      <td>0.00</td>\n",
              "      <td>31.12.2020</td>\n",
              "      <td>3437650</td>\n",
              "      <td>12.07.2021</td>\n",
              "      <td>0.88</td>\n",
              "      <td>0.328358</td>\n",
              "      <td>-0.055517</td>\n",
              "    </tr>\n",
              "    <tr>\n",
              "      <th>7</th>\n",
              "      <td>BRAGE</td>\n",
              "      <td>158.30</td>\n",
              "      <td>12.51</td>\n",
              "      <td>15.92</td>\n",
              "      <td>4.80</td>\n",
              "      <td>31.12.2020</td>\n",
              "      <td>43651</td>\n",
              "      <td>12.07.2021</td>\n",
              "      <td>62.56</td>\n",
              "      <td>0.395199</td>\n",
              "      <td>1.796297</td>\n",
              "    </tr>\n",
              "    <tr>\n",
              "      <th>8</th>\n",
              "      <td>BRYNHILD</td>\n",
              "      <td>5.70</td>\n",
              "      <td>0.00</td>\n",
              "      <td>0.18</td>\n",
              "      <td>0.00</td>\n",
              "      <td>31.12.2020</td>\n",
              "      <td>21123063</td>\n",
              "      <td>12.07.2021</td>\n",
              "      <td>0.49</td>\n",
              "      <td>0.085965</td>\n",
              "      <td>-0.309804</td>\n",
              "    </tr>\n",
              "    <tr>\n",
              "      <th>9</th>\n",
              "      <td>BYRDING</td>\n",
              "      <td>6.59</td>\n",
              "      <td>0.00</td>\n",
              "      <td>1.25</td>\n",
              "      <td>0.62</td>\n",
              "      <td>31.12.2020</td>\n",
              "      <td>28975067</td>\n",
              "      <td>12.07.2021</td>\n",
              "      <td>1.01</td>\n",
              "      <td>0.153263</td>\n",
              "      <td>0.004321</td>\n",
              "    </tr>\n",
              "    <tr>\n",
              "      <th>10</th>\n",
              "      <td>BØYLA</td>\n",
              "      <td>7.46</td>\n",
              "      <td>0.00</td>\n",
              "      <td>0.60</td>\n",
              "      <td>0.00</td>\n",
              "      <td>31.12.2020</td>\n",
              "      <td>22492497</td>\n",
              "      <td>12.07.2021</td>\n",
              "      <td>2.60</td>\n",
              "      <td>0.348525</td>\n",
              "      <td>0.414973</td>\n",
              "    </tr>\n",
              "    <tr>\n",
              "      <th>11</th>\n",
              "      <td>COD</td>\n",
              "      <td>4.50</td>\n",
              "      <td>0.00</td>\n",
              "      <td>10.80</td>\n",
              "      <td>0.00</td>\n",
              "      <td>31.12.2020</td>\n",
              "      <td>43785</td>\n",
              "      <td>12.07.2021</td>\n",
              "      <td>2.88</td>\n",
              "      <td>0.640000</td>\n",
              "      <td>0.459392</td>\n",
              "    </tr>\n",
              "    <tr>\n",
              "      <th>12</th>\n",
              "      <td>DRAUGEN</td>\n",
              "      <td>224.40</td>\n",
              "      <td>0.00</td>\n",
              "      <td>11.80</td>\n",
              "      <td>0.00</td>\n",
              "      <td>31.12.2020</td>\n",
              "      <td>43758</td>\n",
              "      <td>12.07.2021</td>\n",
              "      <td>150.92</td>\n",
              "      <td>0.672549</td>\n",
              "      <td>2.178747</td>\n",
              "    </tr>\n",
              "    <tr>\n",
              "      <th>13</th>\n",
              "      <td>DUVA</td>\n",
              "      <td>11.50</td>\n",
              "      <td>0.40</td>\n",
              "      <td>1.20</td>\n",
              "      <td>7.70</td>\n",
              "      <td>31.12.2020</td>\n",
              "      <td>34833026</td>\n",
              "      <td>12.07.2021</td>\n",
              "      <td>3.61</td>\n",
              "      <td>0.313913</td>\n",
              "      <td>0.557507</td>\n",
              "    </tr>\n",
              "    <tr>\n",
              "      <th>15</th>\n",
              "      <td>EDDA</td>\n",
              "      <td>16.30</td>\n",
              "      <td>0.00</td>\n",
              "      <td>5.00</td>\n",
              "      <td>0.00</td>\n",
              "      <td>31.12.2020</td>\n",
              "      <td>43541</td>\n",
              "      <td>12.07.2021</td>\n",
              "      <td>4.82</td>\n",
              "      <td>0.295706</td>\n",
              "      <td>0.683047</td>\n",
              "    </tr>\n",
              "  </tbody>\n",
              "</table>\n",
              "</div>"
            ],
            "text/plain": [
              "       fldName  fldInplaceOil  ...        RF  fldRecoverableOil_log10\n",
              "0   ALBUSKJELL          56.00  ...  0.131250                 0.866287\n",
              "1         ALVE           3.00  ...  0.820000                 0.390935\n",
              "2      ALVHEIM         110.67  ...  0.485226                 1.729974\n",
              "3         ATLA           0.44  ...  0.909091                -0.397940\n",
              "4       BALDER         263.20  ...  0.404977                 2.027716\n",
              "5        BAUGE          20.20  ...  0.396535                 0.903633\n",
              "6        BLANE           2.68  ...  0.328358                -0.055517\n",
              "7        BRAGE         158.30  ...  0.395199                 1.796297\n",
              "8     BRYNHILD           5.70  ...  0.085965                -0.309804\n",
              "9      BYRDING           6.59  ...  0.153263                 0.004321\n",
              "10       BØYLA           7.46  ...  0.348525                 0.414973\n",
              "11         COD           4.50  ...  0.640000                 0.459392\n",
              "12     DRAUGEN         224.40  ...  0.672549                 2.178747\n",
              "13        DUVA          11.50  ...  0.313913                 0.557507\n",
              "15        EDDA          16.30  ...  0.295706                 0.683047\n",
              "\n",
              "[15 rows x 11 columns]"
            ]
          },
          "metadata": {
            "tags": []
          },
          "execution_count": 31
        }
      ]
    },
    {
      "cell_type": "code",
      "metadata": {
        "id": "4jBpIcwOWxXt"
      },
      "source": [
        "df_new = df2[['fldName','fldRecoverableOil','RF']]\n",
        "df_new = df_new.reset_index(drop=True)"
      ],
      "execution_count": 32,
      "outputs": []
    },
    {
      "cell_type": "code",
      "metadata": {
        "colab": {
          "base_uri": "https://localhost:8080/",
          "height": 206
        },
        "id": "jDReI_sBXzJ3",
        "outputId": "1b74a618-3e00-48c2-a3b1-009457dc32bb"
      },
      "source": [
        "df_new.head()"
      ],
      "execution_count": 33,
      "outputs": [
        {
          "output_type": "execute_result",
          "data": {
            "text/html": [
              "<div>\n",
              "<style scoped>\n",
              "    .dataframe tbody tr th:only-of-type {\n",
              "        vertical-align: middle;\n",
              "    }\n",
              "\n",
              "    .dataframe tbody tr th {\n",
              "        vertical-align: top;\n",
              "    }\n",
              "\n",
              "    .dataframe thead th {\n",
              "        text-align: right;\n",
              "    }\n",
              "</style>\n",
              "<table border=\"1\" class=\"dataframe\">\n",
              "  <thead>\n",
              "    <tr style=\"text-align: right;\">\n",
              "      <th></th>\n",
              "      <th>fldName</th>\n",
              "      <th>fldRecoverableOil</th>\n",
              "      <th>RF</th>\n",
              "    </tr>\n",
              "  </thead>\n",
              "  <tbody>\n",
              "    <tr>\n",
              "      <th>0</th>\n",
              "      <td>ALBUSKJELL</td>\n",
              "      <td>7.35</td>\n",
              "      <td>0.131250</td>\n",
              "    </tr>\n",
              "    <tr>\n",
              "      <th>1</th>\n",
              "      <td>ALVE</td>\n",
              "      <td>2.46</td>\n",
              "      <td>0.820000</td>\n",
              "    </tr>\n",
              "    <tr>\n",
              "      <th>2</th>\n",
              "      <td>ALVHEIM</td>\n",
              "      <td>53.70</td>\n",
              "      <td>0.485226</td>\n",
              "    </tr>\n",
              "    <tr>\n",
              "      <th>3</th>\n",
              "      <td>ATLA</td>\n",
              "      <td>0.40</td>\n",
              "      <td>0.909091</td>\n",
              "    </tr>\n",
              "    <tr>\n",
              "      <th>4</th>\n",
              "      <td>BALDER</td>\n",
              "      <td>106.59</td>\n",
              "      <td>0.404977</td>\n",
              "    </tr>\n",
              "  </tbody>\n",
              "</table>\n",
              "</div>"
            ],
            "text/plain": [
              "      fldName  fldRecoverableOil        RF\n",
              "0  ALBUSKJELL               7.35  0.131250\n",
              "1        ALVE               2.46  0.820000\n",
              "2     ALVHEIM              53.70  0.485226\n",
              "3        ATLA               0.40  0.909091\n",
              "4      BALDER             106.59  0.404977"
            ]
          },
          "metadata": {
            "tags": []
          },
          "execution_count": 33
        }
      ]
    },
    {
      "cell_type": "code",
      "metadata": {
        "colab": {
          "base_uri": "https://localhost:8080/",
          "height": 555
        },
        "id": "whNOOj99YPF_",
        "outputId": "ae261339-2b1f-4a17-bdb1-b5c94607656b"
      },
      "source": [
        "ax = df_new.set_index('fldRecoverableOil')['RF'].plot(style='o',figsize=(14,9))\n",
        "ax.set_xscale('log')"
      ],
      "execution_count": 34,
      "outputs": [
        {
          "output_type": "display_data",
          "data": {
            "image/png": "[encoded data removed]",
            "text/plain": [
              "<Figure size 1008x648 with 1 Axes>"
            ]
          },
          "metadata": {
            "tags": [],
            "needs_background": "light"
          }
        }
      ]
    },
    {
      "cell_type": "code",
      "metadata": {
        "id": "11nVX8YPaOhv"
      },
      "source": [
        "# removing outliers from RF\n",
        "df_new = df_new[df_new['RF'] <= 1]"
      ],
      "execution_count": 35,
      "outputs": []
    },
    {
      "cell_type": "code",
      "metadata": {
        "colab": {
          "base_uri": "https://localhost:8080/"
        },
        "id": "7eDa5iS9Z9Be",
        "outputId": "1fe41c74-29b8-4fe6-9ec1-86439e0c103e"
      },
      "source": [
        "df_new.shape"
      ],
      "execution_count": 36,
      "outputs": [
        {
          "output_type": "execute_result",
          "data": {
            "text/plain": [
              "(99, 3)"
            ]
          },
          "metadata": {
            "tags": []
          },
          "execution_count": 36
        }
      ]
    },
    {
      "cell_type": "code",
      "metadata": {
        "colab": {
          "base_uri": "https://localhost:8080/",
          "height": 555
        },
        "id": "gEZoIG2Yae9G",
        "outputId": "d912f490-53fe-4afa-ddc6-3ff5e64b11f5"
      },
      "source": [
        "ax = df_new.set_index('fldRecoverableOil')['RF'].plot(style='o',figsize=(14,9))\n",
        "ax.set_xscale('log')"
      ],
      "execution_count": 37,
      "outputs": [
        {
          "output_type": "display_data",
          "data": {
            "image/png": "[encoded data removed]",
            "text/plain": [
              "<Figure size 1008x648 with 1 Axes>"
            ]
          },
          "metadata": {
            "tags": [],
            "needs_background": "light"
          }
        }
      ]
    },
    {
      "cell_type": "code",
      "metadata": {
        "id": "ndoyrWxAeXl4"
      },
      "source": [
        "df_new.rename(columns={'fldRecoverableOil': 'x', 'RF' : 'y','fldName':'val' }, inplace=True)"
      ],
      "execution_count": 38,
      "outputs": []
    },
    {
      "cell_type": "code",
      "metadata": {
        "colab": {
          "base_uri": "https://localhost:8080/",
          "height": 206
        },
        "id": "xUQ2RRKqep6g",
        "outputId": "56b91f26-7271-4a24-cd48-ddcb9ee07b38"
      },
      "source": [
        "df_new.head()"
      ],
      "execution_count": 39,
      "outputs": [
        {
          "output_type": "execute_result",
          "data": {
            "text/html": [
              "<div>\n",
              "<style scoped>\n",
              "    .dataframe tbody tr th:only-of-type {\n",
              "        vertical-align: middle;\n",
              "    }\n",
              "\n",
              "    .dataframe tbody tr th {\n",
              "        vertical-align: top;\n",
              "    }\n",
              "\n",
              "    .dataframe thead th {\n",
              "        text-align: right;\n",
              "    }\n",
              "</style>\n",
              "<table border=\"1\" class=\"dataframe\">\n",
              "  <thead>\n",
              "    <tr style=\"text-align: right;\">\n",
              "      <th></th>\n",
              "      <th>val</th>\n",
              "      <th>x</th>\n",
              "      <th>y</th>\n",
              "    </tr>\n",
              "  </thead>\n",
              "  <tbody>\n",
              "    <tr>\n",
              "      <th>0</th>\n",
              "      <td>ALBUSKJELL</td>\n",
              "      <td>7.35</td>\n",
              "      <td>0.131250</td>\n",
              "    </tr>\n",
              "    <tr>\n",
              "      <th>1</th>\n",
              "      <td>ALVE</td>\n",
              "      <td>2.46</td>\n",
              "      <td>0.820000</td>\n",
              "    </tr>\n",
              "    <tr>\n",
              "      <th>2</th>\n",
              "      <td>ALVHEIM</td>\n",
              "      <td>53.70</td>\n",
              "      <td>0.485226</td>\n",
              "    </tr>\n",
              "    <tr>\n",
              "      <th>3</th>\n",
              "      <td>ATLA</td>\n",
              "      <td>0.40</td>\n",
              "      <td>0.909091</td>\n",
              "    </tr>\n",
              "    <tr>\n",
              "      <th>4</th>\n",
              "      <td>BALDER</td>\n",
              "      <td>106.59</td>\n",
              "      <td>0.404977</td>\n",
              "    </tr>\n",
              "  </tbody>\n",
              "</table>\n",
              "</div>"
            ],
            "text/plain": [
              "          val       x         y\n",
              "0  ALBUSKJELL    7.35  0.131250\n",
              "1        ALVE    2.46  0.820000\n",
              "2     ALVHEIM   53.70  0.485226\n",
              "3        ATLA    0.40  0.909091\n",
              "4      BALDER  106.59  0.404977"
            ]
          },
          "metadata": {
            "tags": []
          },
          "execution_count": 39
        }
      ]
    },
    {
      "cell_type": "code",
      "metadata": {
        "colab": {
          "base_uri": "https://localhost:8080/",
          "height": 609
        },
        "id": "-Yp77oHccziQ",
        "outputId": "c193ad78-3b1e-46f7-ece0-50c6064948d8"
      },
      "source": [
        "ax = df_new.set_index('x')['y'].plot(style='o',figsize=(20,10))\n",
        "\n",
        "def label_point(x, y, val, ax):\n",
        "    a = pd.concat({'x': x, 'y': y, 'val': val}, axis=1)\n",
        "    for i, point in a.iterrows():\n",
        "        ax.text(point['x'], point['y'], str(point['val']),fontsize=9)\n",
        "\n",
        "label_point(df_new.x, df_new.y, df_new.val, ax)\n",
        "ax.set_xscale('log')"
      ],
      "execution_count": 40,
      "outputs": [
        {
          "output_type": "display_data",
          "data": {
            "image/png": "[encoded data removed]",
            "text/plain": [
              "<Figure size 1440x720 with 1 Axes>"
            ]
          },
          "metadata": {
            "tags": [],
            "needs_background": "light"
          }
        }
      ]
    },
    {
      "cell_type": "code",
      "metadata": {
        "colab": {
          "base_uri": "https://localhost:8080/",
          "height": 613
        },
        "id": "Z2mUynnFdmS5",
        "outputId": "42b7aa58-f1e4-4e6c-df5b-d85c0e97de4c"
      },
      "source": [
        "import matplotlib.pyplot as plt\n",
        "\n",
        "ax = df_new.set_index('x')['y'].plot(style='o',figsize=(20,10))\n",
        "\n",
        "def label_point(x, y, val, ax):\n",
        "    a = pd.concat({'x': x, 'y': y, 'val': val}, axis=1)\n",
        "    for i, point in a.iterrows():\n",
        "        ax.text(point['x'], point['y'], str(point['val']),fontsize=9)\n",
        "\n",
        "label_point(df_new.x, df_new.y, df_new.val, ax)\n",
        "ytic = [0,0.1,0.2,0.3,0.4,0.5,0.6,0.7,0.8,0.9,1]\n",
        "plt.yticks(ytic);\n",
        "plt.xlabel('OILP');\n",
        "plt.ylabel('EF(frac)');\n",
        "ax.set_xscale('log')"
      ],
      "execution_count": 43,
      "outputs": [
        {
          "output_type": "display_data",
          "data": {
            "image/png": "[encoded data removed]",
            "text/plain": [
              "<Figure size 1440x720 with 1 Axes>"
            ]
          },
          "metadata": {
            "tags": [],
            "needs_background": "light"
          }
        }
      ]
    },
    {
      "cell_type": "code",
      "metadata": {
        "colab": {
          "base_uri": "https://localhost:8080/",
          "height": 613
        },
        "id": "9ZB6np3jhe1v",
        "outputId": "9ade06cf-5880-4373-a70a-9249a9e77db5"
      },
      "source": [
        "import matplotlib.pyplot as plt\n",
        "\n",
        "ax = df_new.set_index('x')['y'].plot(style='o',figsize=(20,10))\n",
        "\n",
        "def label_point(x, y, val, ax):\n",
        "    a = pd.concat({'x': x, 'y': y, 'val': val}, axis=1)\n",
        "    for i, point in a.iterrows():\n",
        "        ax.text(point['x'], point['y'], str(point['val']),fontsize=9)\n",
        "\n",
        "label_point(df_new.x, df_new.y, df_new.val, ax)\n",
        "ytic = [0,0.1,0.2,0.3,0.4,0.5,0.6,0.7,0.8,0.9,1]\n",
        "plt.yticks(ytic);\n",
        "plt.xlabel('OILP');\n",
        "plt.ylabel('EF(frac)');\n",
        "ax.set_xscale('log')\n",
        "plt.grid()"
      ],
      "execution_count": 44,
      "outputs": [
        {
          "output_type": "display_data",
          "data": {
            "image/png": "[encoded data removed]",
            "text/plain": [
              "<Figure size 1440x720 with 1 Axes>"
            ]
          },
          "metadata": {
            "tags": [],
            "needs_background": "light"
          }
        }
      ]
    },
    {
      "cell_type": "code",
      "metadata": {
        "id": "1sxtA6eukkZX"
      },
      "source": [
        ""
      ],
      "execution_count": null,
      "outputs": []
    }
  ]
}